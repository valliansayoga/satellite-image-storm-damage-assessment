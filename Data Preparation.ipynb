{
 "cells": [
  {
   "cell_type": "code",
   "execution_count": 43,
   "id": "cf27384c-2c37-47a4-bf54-14ef13309835",
   "metadata": {
    "tags": []
   },
   "outputs": [],
   "source": [
    "import rasterio\n",
    "from osgeo import gdal\n",
    "from pathlib import Path\n",
    "import shutil\n",
    "from tqdm.notebook import tqdm\n",
    "from PIL import Image\n",
    "import os"
   ]
  },
  {
   "cell_type": "code",
   "execution_count": 14,
   "id": "306743ca-a6b3-457b-8473-73ba173a5749",
   "metadata": {
    "tags": []
   },
   "outputs": [],
   "source": [
    "ROOT = Path()\n",
    "DATA = ROOT / \"DATA\"\n",
    "TILES = DATA / \"TILES\"\n",
    "PRE_DIR = TILES / \"PRE_EVENT\"\n",
    "POST_DIR = TILES / \"POST_EVENT\""
   ]
  },
  {
   "cell_type": "code",
   "execution_count": 8,
   "id": "2d7b0d29-3f21-4e2f-a07c-a1c9ffda9d90",
   "metadata": {
    "tags": []
   },
   "outputs": [],
   "source": [
    "PRE_IMG = DATA / \"Pre_Event_San_Juan.tif\"\n",
    "POST_IMG = DATA / \"Post_Event_San_Juan.tif\""
   ]
  },
  {
   "cell_type": "markdown",
   "id": "4e4e27c6-c48f-4e9d-b440-ff4aab244351",
   "metadata": {},
   "source": [
    "# Tiling Images"
   ]
  },
  {
   "cell_type": "code",
   "execution_count": 41,
   "id": "6f18150e-f5b5-402a-a6f8-9001e00d2e45",
   "metadata": {
    "tags": []
   },
   "outputs": [],
   "source": [
    "def generate_tiles(\n",
    "    input_file: str,\n",
    "    output_dir: str,\n",
    "    x_grid_size: int,\n",
    "    y_grid_size: int,\n",
    "):\n",
    "    # Cleaning directory so we can rerun without duplicates\n",
    "    shutil.rmtree(output_dir, ignore_errors=True)\n",
    "    \n",
    "    # Image size & band counts\n",
    "    ds = gdal.Open(input_file)\n",
    "    width = ds.RasterXSize\n",
    "    height = ds.RasterYSize\n",
    "    bands = ds.RasterCount\n",
    "    \n",
    "    # // -> Floor division\n",
    "    num_tiles_x = (width // x_grid_size)\n",
    "    num_tiles_y = (width // y_grid_size)\n",
    "    \n",
    "    print(f\"Tile counts (x, y): {num_tiles_x, num_tiles_y}\")\n",
    "    \n",
    "    # Create output directory\n",
    "    output_dir.mkdir(parents=True, exist_ok=True)\n",
    "    \n",
    "    # Tiling\n",
    "    for x in tqdm(range(num_tiles_x)):\n",
    "        for y in range(num_tiles_y):\n",
    "            x_offset = x * x_grid_size\n",
    "            y_offset = y * y_grid_size\n",
    "            \n",
    "            tile_width = min(x_grid_size, width - x_offset)\n",
    "            tile_height = min(y_grid_size, height - y_offset)\n",
    "            \n",
    "            tile = []\n",
    "            for band in range(1, bands+1):\n",
    "                tile_data = (\n",
    "                    ds.GetRasterBand(band)\n",
    "                    .ReadAsArray(\n",
    "                        x_offset,\n",
    "                        y_offset,\n",
    "                        tile_width,\n",
    "                        tile_height\n",
    "                    )\n",
    "                )\n",
    "                tile.append(tile_data)\n",
    "            \n",
    "            # Output filename\n",
    "            output_name = output_dir / f\"tile_{x}_{y}.tif\"\n",
    "            \n",
    "            # Output TIFF\n",
    "            driver = gdal.GetDriverByName(\"GTiff\")\n",
    "            options = ['COMPRESS=DEFLATE', 'PREDICTOR=2', 'TILED=YES']\n",
    "            out_ds = driver.Create(\n",
    "                output_name.as_posix(),\n",
    "                tile_width,\n",
    "                tile_height,\n",
    "                bands,\n",
    "                ds.GetRasterBand(1).DataType,\n",
    "                options=options\n",
    "            )\n",
    "            \n",
    "            # Set Geotransform\n",
    "            geotransform = list(ds.GetGeoTransform())\n",
    "            geotransform[0] = geotransform[0] + x_offset * geotransform[1]\n",
    "            geotransform[3] = geotransform[3] + x_offset * geotransform[5]\n",
    "            out_ds.SetGeoTransform(tuple(geotransform))\n",
    "            \n",
    "            # Projection\n",
    "            out_ds.SetProjection(ds.GetProjection())\n",
    "            \n",
    "            for band in range(1, bands+1):\n",
    "                out_band = out_ds.GetRasterBand(band)\n",
    "                out_band.WriteArray(tile[band-1])\n",
    "            \n",
    "            # Close output file\n",
    "            out_ds = None\n",
    "        "
   ]
  },
  {
   "cell_type": "code",
   "execution_count": 42,
   "id": "6fbcc847-d293-40ac-87bc-2076cca2694b",
   "metadata": {
    "tags": []
   },
   "outputs": [
    {
     "name": "stdout",
     "output_type": "stream",
     "text": [
      "Tile counts (x, y): (74, 74)\n"
     ]
    },
    {
     "data": {
      "application/vnd.jupyter.widget-view+json": {
       "model_id": "991680cc7c154b31a656925332a70d06",
       "version_major": 2,
       "version_minor": 0
      },
      "text/plain": [
       "  0%|          | 0/74 [00:00<?, ?it/s]"
      ]
     },
     "metadata": {},
     "output_type": "display_data"
    },
    {
     "name": "stdout",
     "output_type": "stream",
     "text": [
      "Tile counts (x, y): (74, 74)\n"
     ]
    },
    {
     "data": {
      "application/vnd.jupyter.widget-view+json": {
       "model_id": "d1021010e19e4f2988cf611279f292da",
       "version_major": 2,
       "version_minor": 0
      },
      "text/plain": [
       "  0%|          | 0/74 [00:00<?, ?it/s]"
      ]
     },
     "metadata": {},
     "output_type": "display_data"
    }
   ],
   "source": [
    "for source_file, target in (\n",
    "    (PRE_IMG.as_posix(), PRE_DIR),\n",
    "    (POST_IMG.as_posix(), POST_DIR),\n",
    "):\n",
    "    print(f\"Processing {source_file} ...\")\n",
    "    generate_tiles(\n",
    "        source_file, \n",
    "        target,\n",
    "        512,\n",
    "        512\n",
    "    )\n",
    "    print()"
   ]
  },
  {
   "cell_type": "markdown",
   "id": "1b3ee237-f651-458b-bfa2-872588002196",
   "metadata": {},
   "source": [
    "# Convert TIFF to JPEG"
   ]
  },
  {
   "cell_type": "code",
   "execution_count": 85,
   "id": "a956bae5-6dc1-43ee-ba13-3e94fda464f1",
   "metadata": {
    "tags": []
   },
   "outputs": [],
   "source": [
    "def convert_tiff2jpeg(input_dir, output_dir):\n",
    "    print(f\"Start processing for {input_dir.parts[-1]}\")\n",
    "    shutil.rmtree(output_dir, ignore_errors=True)\n",
    "    \n",
    "    output_dir.mkdir(exist_ok=True, parents=True)\n",
    "    \n",
    "    for filename in tqdm(list(input_dir.glob(\"*.tif\"))):\n",
    "        img = Image.open(filename)\n",
    "        \n",
    "        if img.mode != \"RGB\":\n",
    "            img = img.convert(\"RGB\")\n",
    "        \n",
    "        output_name = output_dir / (filename.with_suffix(\".jpg\"))\n",
    "        \n",
    "        img.save(output_name, \"JPEG\")\n",
    "    print(\"Processing done\\n\")\n"
   ]
  },
  {
   "cell_type": "code",
   "execution_count": 59,
   "id": "88a41251-ae5c-4dfe-a1f1-ed4451616499",
   "metadata": {
    "tags": []
   },
   "outputs": [
    {
     "name": "stdout",
     "output_type": "stream",
     "text": [
      "Start processing for POST_EVENT\n"
     ]
    },
    {
     "data": {
      "application/vnd.jupyter.widget-view+json": {
       "model_id": "3d05df1d5c684209ac3584951625e22e",
       "version_major": 2,
       "version_minor": 0
      },
      "text/plain": [
       "  0%|          | 0/5476 [00:00<?, ?it/s]"
      ]
     },
     "metadata": {},
     "output_type": "display_data"
    },
    {
     "name": "stdout",
     "output_type": "stream",
     "text": [
      "Processing done\n",
      "\n",
      "Start processing for PRE_EVENT\n"
     ]
    },
    {
     "data": {
      "application/vnd.jupyter.widget-view+json": {
       "model_id": "0a129572384b4964947f292c5c58d6f5",
       "version_major": 2,
       "version_minor": 0
      },
      "text/plain": [
       "  0%|          | 0/5476 [00:00<?, ?it/s]"
      ]
     },
     "metadata": {},
     "output_type": "display_data"
    },
    {
     "name": "stdout",
     "output_type": "stream",
     "text": [
      "Processing done\n",
      "\n"
     ]
    }
   ],
   "source": [
    "POST_JPEG = TILES / \"POST_JPEG\"\n",
    "PRE_JPEG = TILES / \"PRE_JPEG\"\n",
    "\n",
    "for source, target in (\n",
    "    (POST_DIR, POST_JPEG),\n",
    "    (PRE_DIR, PRE_JPEG),\n",
    "):\n",
    "    convert_tiff2jpeg(\n",
    "        source,\n",
    "        target\n",
    "    )"
   ]
  },
  {
   "cell_type": "code",
   "execution_count": 98,
   "id": "47fa19ae-4c85-423f-9028-150c2d7166fe",
   "metadata": {
    "tags": []
   },
   "outputs": [
    {
     "data": {
      "application/vnd.jupyter.widget-view+json": {
       "model_id": "d4a8354c8ead402aab0fecaaf0a0c6e1",
       "version_major": 2,
       "version_minor": 0
      },
      "text/plain": [
       "0it [00:00, ?it/s]"
      ]
     },
     "metadata": {},
     "output_type": "display_data"
    },
    {
     "data": {
      "application/vnd.jupyter.widget-view+json": {
       "model_id": "f8ba128aa2094c4296ca3c04286d63de",
       "version_major": 2,
       "version_minor": 0
      },
      "text/plain": [
       "0it [00:00, ?it/s]"
      ]
     },
     "metadata": {},
     "output_type": "display_data"
    }
   ],
   "source": [
    "def rename_files(path, prefix: str):\n",
    "    files = path.glob(\"*.jpg\")\n",
    "    for i, file in tqdm(enumerate(files)):\n",
    "        extension = file.suffix\n",
    "        new_name = f\"{prefix}_{i:04}{extension}\"\n",
    "        \n",
    "        old_filepath = file\n",
    "        new_filepath = path / new_name\n",
    "        \n",
    "        os.rename(old_filepath, new_filepath)\n",
    "\n",
    "for path, prefix in (\n",
    "    (POST_JPEG, \"Post_Event\"),\n",
    "    (PRE_JPEG, \"Pre_Event\")\n",
    "):\n",
    "    rename_files(path, prefix)"
   ]
  },
  {
   "cell_type": "code",
   "execution_count": null,
   "id": "fda0385c-db6e-41f8-bb04-dc039a7631ea",
   "metadata": {},
   "outputs": [],
   "source": []
  }
 ],
 "metadata": {
  "kernelspec": {
   "display_name": "Python 3 (ipykernel)",
   "language": "python",
   "name": "python3"
  },
  "language_info": {
   "codemirror_mode": {
    "name": "ipython",
    "version": 3
   },
   "file_extension": ".py",
   "mimetype": "text/x-python",
   "name": "python",
   "nbconvert_exporter": "python",
   "pygments_lexer": "ipython3",
   "version": "3.11.4"
  }
 },
 "nbformat": 4,
 "nbformat_minor": 5
}
